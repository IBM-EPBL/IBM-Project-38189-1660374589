{
 "cells": [
  {
   "cell_type": "markdown",
   "id": "ea8c0e45",
   "metadata": {},
   "source": [
    "## Assignment 2 : IBM-Project-38189-1660374589"
   ]
  },
  {
   "cell_type": "markdown",
   "id": "aee6d92e",
   "metadata": {},
   "source": [
    "### Importing"
   ]
  },
  {
   "cell_type": "code",
   "execution_count": 1,
   "id": "674dec3f",
   "metadata": {},
   "outputs": [],
   "source": [
    "import numpy as np\n",
    "import pandas as pd\n",
    "import matplotlib.pyplot as plt\n",
    "import seaborn as sns\n",
    "\n",
    "import warnings\n",
    "warnings.filterwarnings(\"ignore\")"
   ]
  },
  {
   "cell_type": "markdown",
   "id": "720dcd71",
   "metadata": {},
   "source": [
    "### Loading the dataset provided in the assignment folder"
   ]
  },
  {
   "cell_type": "code",
   "execution_count": 2,
   "id": "eebef561",
   "metadata": {},
   "outputs": [
    {
     "ename": "FileNotFoundError",
     "evalue": "[Errno 2] No such file or directory: 'Churn_Modelling.csv'",
     "output_type": "error",
     "traceback": [
      "\u001b[1;31m---------------------------------------------------------------------------\u001b[0m",
      "\u001b[1;31mFileNotFoundError\u001b[0m                         Traceback (most recent call last)",
      "Input \u001b[1;32mIn [2]\u001b[0m, in \u001b[0;36m<cell line: 1>\u001b[1;34m()\u001b[0m\n\u001b[1;32m----> 1\u001b[0m df\u001b[38;5;241m=\u001b[39m\u001b[43mpd\u001b[49m\u001b[38;5;241;43m.\u001b[39;49m\u001b[43mread_csv\u001b[49m\u001b[43m(\u001b[49m\u001b[38;5;124;43m\"\u001b[39;49m\u001b[38;5;124;43mChurn_Modelling.csv\u001b[39;49m\u001b[38;5;124;43m\"\u001b[39;49m\u001b[43m)\u001b[49m\n",
      "File \u001b[1;32m~\\anaconda3\\lib\\site-packages\\pandas\\util\\_decorators.py:311\u001b[0m, in \u001b[0;36mdeprecate_nonkeyword_arguments.<locals>.decorate.<locals>.wrapper\u001b[1;34m(*args, **kwargs)\u001b[0m\n\u001b[0;32m    305\u001b[0m \u001b[38;5;28;01mif\u001b[39;00m \u001b[38;5;28mlen\u001b[39m(args) \u001b[38;5;241m>\u001b[39m num_allow_args:\n\u001b[0;32m    306\u001b[0m     warnings\u001b[38;5;241m.\u001b[39mwarn(\n\u001b[0;32m    307\u001b[0m         msg\u001b[38;5;241m.\u001b[39mformat(arguments\u001b[38;5;241m=\u001b[39marguments),\n\u001b[0;32m    308\u001b[0m         \u001b[38;5;167;01mFutureWarning\u001b[39;00m,\n\u001b[0;32m    309\u001b[0m         stacklevel\u001b[38;5;241m=\u001b[39mstacklevel,\n\u001b[0;32m    310\u001b[0m     )\n\u001b[1;32m--> 311\u001b[0m \u001b[38;5;28;01mreturn\u001b[39;00m func(\u001b[38;5;241m*\u001b[39margs, \u001b[38;5;241m*\u001b[39m\u001b[38;5;241m*\u001b[39mkwargs)\n",
      "File \u001b[1;32m~\\anaconda3\\lib\\site-packages\\pandas\\io\\parsers\\readers.py:680\u001b[0m, in \u001b[0;36mread_csv\u001b[1;34m(filepath_or_buffer, sep, delimiter, header, names, index_col, usecols, squeeze, prefix, mangle_dupe_cols, dtype, engine, converters, true_values, false_values, skipinitialspace, skiprows, skipfooter, nrows, na_values, keep_default_na, na_filter, verbose, skip_blank_lines, parse_dates, infer_datetime_format, keep_date_col, date_parser, dayfirst, cache_dates, iterator, chunksize, compression, thousands, decimal, lineterminator, quotechar, quoting, doublequote, escapechar, comment, encoding, encoding_errors, dialect, error_bad_lines, warn_bad_lines, on_bad_lines, delim_whitespace, low_memory, memory_map, float_precision, storage_options)\u001b[0m\n\u001b[0;32m    665\u001b[0m kwds_defaults \u001b[38;5;241m=\u001b[39m _refine_defaults_read(\n\u001b[0;32m    666\u001b[0m     dialect,\n\u001b[0;32m    667\u001b[0m     delimiter,\n\u001b[1;32m   (...)\u001b[0m\n\u001b[0;32m    676\u001b[0m     defaults\u001b[38;5;241m=\u001b[39m{\u001b[38;5;124m\"\u001b[39m\u001b[38;5;124mdelimiter\u001b[39m\u001b[38;5;124m\"\u001b[39m: \u001b[38;5;124m\"\u001b[39m\u001b[38;5;124m,\u001b[39m\u001b[38;5;124m\"\u001b[39m},\n\u001b[0;32m    677\u001b[0m )\n\u001b[0;32m    678\u001b[0m kwds\u001b[38;5;241m.\u001b[39mupdate(kwds_defaults)\n\u001b[1;32m--> 680\u001b[0m \u001b[38;5;28;01mreturn\u001b[39;00m \u001b[43m_read\u001b[49m\u001b[43m(\u001b[49m\u001b[43mfilepath_or_buffer\u001b[49m\u001b[43m,\u001b[49m\u001b[43m \u001b[49m\u001b[43mkwds\u001b[49m\u001b[43m)\u001b[49m\n",
      "File \u001b[1;32m~\\anaconda3\\lib\\site-packages\\pandas\\io\\parsers\\readers.py:575\u001b[0m, in \u001b[0;36m_read\u001b[1;34m(filepath_or_buffer, kwds)\u001b[0m\n\u001b[0;32m    572\u001b[0m _validate_names(kwds\u001b[38;5;241m.\u001b[39mget(\u001b[38;5;124m\"\u001b[39m\u001b[38;5;124mnames\u001b[39m\u001b[38;5;124m\"\u001b[39m, \u001b[38;5;28;01mNone\u001b[39;00m))\n\u001b[0;32m    574\u001b[0m \u001b[38;5;66;03m# Create the parser.\u001b[39;00m\n\u001b[1;32m--> 575\u001b[0m parser \u001b[38;5;241m=\u001b[39m TextFileReader(filepath_or_buffer, \u001b[38;5;241m*\u001b[39m\u001b[38;5;241m*\u001b[39mkwds)\n\u001b[0;32m    577\u001b[0m \u001b[38;5;28;01mif\u001b[39;00m chunksize \u001b[38;5;129;01mor\u001b[39;00m iterator:\n\u001b[0;32m    578\u001b[0m     \u001b[38;5;28;01mreturn\u001b[39;00m parser\n",
      "File \u001b[1;32m~\\anaconda3\\lib\\site-packages\\pandas\\io\\parsers\\readers.py:933\u001b[0m, in \u001b[0;36mTextFileReader.__init__\u001b[1;34m(self, f, engine, **kwds)\u001b[0m\n\u001b[0;32m    930\u001b[0m     \u001b[38;5;28mself\u001b[39m\u001b[38;5;241m.\u001b[39moptions[\u001b[38;5;124m\"\u001b[39m\u001b[38;5;124mhas_index_names\u001b[39m\u001b[38;5;124m\"\u001b[39m] \u001b[38;5;241m=\u001b[39m kwds[\u001b[38;5;124m\"\u001b[39m\u001b[38;5;124mhas_index_names\u001b[39m\u001b[38;5;124m\"\u001b[39m]\n\u001b[0;32m    932\u001b[0m \u001b[38;5;28mself\u001b[39m\u001b[38;5;241m.\u001b[39mhandles: IOHandles \u001b[38;5;241m|\u001b[39m \u001b[38;5;28;01mNone\u001b[39;00m \u001b[38;5;241m=\u001b[39m \u001b[38;5;28;01mNone\u001b[39;00m\n\u001b[1;32m--> 933\u001b[0m \u001b[38;5;28mself\u001b[39m\u001b[38;5;241m.\u001b[39m_engine \u001b[38;5;241m=\u001b[39m \u001b[38;5;28;43mself\u001b[39;49m\u001b[38;5;241;43m.\u001b[39;49m\u001b[43m_make_engine\u001b[49m\u001b[43m(\u001b[49m\u001b[43mf\u001b[49m\u001b[43m,\u001b[49m\u001b[43m \u001b[49m\u001b[38;5;28;43mself\u001b[39;49m\u001b[38;5;241;43m.\u001b[39;49m\u001b[43mengine\u001b[49m\u001b[43m)\u001b[49m\n",
      "File \u001b[1;32m~\\anaconda3\\lib\\site-packages\\pandas\\io\\parsers\\readers.py:1217\u001b[0m, in \u001b[0;36mTextFileReader._make_engine\u001b[1;34m(self, f, engine)\u001b[0m\n\u001b[0;32m   1213\u001b[0m     mode \u001b[38;5;241m=\u001b[39m \u001b[38;5;124m\"\u001b[39m\u001b[38;5;124mrb\u001b[39m\u001b[38;5;124m\"\u001b[39m\n\u001b[0;32m   1214\u001b[0m \u001b[38;5;66;03m# error: No overload variant of \"get_handle\" matches argument types\u001b[39;00m\n\u001b[0;32m   1215\u001b[0m \u001b[38;5;66;03m# \"Union[str, PathLike[str], ReadCsvBuffer[bytes], ReadCsvBuffer[str]]\"\u001b[39;00m\n\u001b[0;32m   1216\u001b[0m \u001b[38;5;66;03m# , \"str\", \"bool\", \"Any\", \"Any\", \"Any\", \"Any\", \"Any\"\u001b[39;00m\n\u001b[1;32m-> 1217\u001b[0m \u001b[38;5;28mself\u001b[39m\u001b[38;5;241m.\u001b[39mhandles \u001b[38;5;241m=\u001b[39m \u001b[43mget_handle\u001b[49m\u001b[43m(\u001b[49m\u001b[43m  \u001b[49m\u001b[38;5;66;43;03m# type: ignore[call-overload]\u001b[39;49;00m\n\u001b[0;32m   1218\u001b[0m \u001b[43m    \u001b[49m\u001b[43mf\u001b[49m\u001b[43m,\u001b[49m\n\u001b[0;32m   1219\u001b[0m \u001b[43m    \u001b[49m\u001b[43mmode\u001b[49m\u001b[43m,\u001b[49m\n\u001b[0;32m   1220\u001b[0m \u001b[43m    \u001b[49m\u001b[43mencoding\u001b[49m\u001b[38;5;241;43m=\u001b[39;49m\u001b[38;5;28;43mself\u001b[39;49m\u001b[38;5;241;43m.\u001b[39;49m\u001b[43moptions\u001b[49m\u001b[38;5;241;43m.\u001b[39;49m\u001b[43mget\u001b[49m\u001b[43m(\u001b[49m\u001b[38;5;124;43m\"\u001b[39;49m\u001b[38;5;124;43mencoding\u001b[39;49m\u001b[38;5;124;43m\"\u001b[39;49m\u001b[43m,\u001b[49m\u001b[43m \u001b[49m\u001b[38;5;28;43;01mNone\u001b[39;49;00m\u001b[43m)\u001b[49m\u001b[43m,\u001b[49m\n\u001b[0;32m   1221\u001b[0m \u001b[43m    \u001b[49m\u001b[43mcompression\u001b[49m\u001b[38;5;241;43m=\u001b[39;49m\u001b[38;5;28;43mself\u001b[39;49m\u001b[38;5;241;43m.\u001b[39;49m\u001b[43moptions\u001b[49m\u001b[38;5;241;43m.\u001b[39;49m\u001b[43mget\u001b[49m\u001b[43m(\u001b[49m\u001b[38;5;124;43m\"\u001b[39;49m\u001b[38;5;124;43mcompression\u001b[39;49m\u001b[38;5;124;43m\"\u001b[39;49m\u001b[43m,\u001b[49m\u001b[43m \u001b[49m\u001b[38;5;28;43;01mNone\u001b[39;49;00m\u001b[43m)\u001b[49m\u001b[43m,\u001b[49m\n\u001b[0;32m   1222\u001b[0m \u001b[43m    \u001b[49m\u001b[43mmemory_map\u001b[49m\u001b[38;5;241;43m=\u001b[39;49m\u001b[38;5;28;43mself\u001b[39;49m\u001b[38;5;241;43m.\u001b[39;49m\u001b[43moptions\u001b[49m\u001b[38;5;241;43m.\u001b[39;49m\u001b[43mget\u001b[49m\u001b[43m(\u001b[49m\u001b[38;5;124;43m\"\u001b[39;49m\u001b[38;5;124;43mmemory_map\u001b[39;49m\u001b[38;5;124;43m\"\u001b[39;49m\u001b[43m,\u001b[49m\u001b[43m \u001b[49m\u001b[38;5;28;43;01mFalse\u001b[39;49;00m\u001b[43m)\u001b[49m\u001b[43m,\u001b[49m\n\u001b[0;32m   1223\u001b[0m \u001b[43m    \u001b[49m\u001b[43mis_text\u001b[49m\u001b[38;5;241;43m=\u001b[39;49m\u001b[43mis_text\u001b[49m\u001b[43m,\u001b[49m\n\u001b[0;32m   1224\u001b[0m \u001b[43m    \u001b[49m\u001b[43merrors\u001b[49m\u001b[38;5;241;43m=\u001b[39;49m\u001b[38;5;28;43mself\u001b[39;49m\u001b[38;5;241;43m.\u001b[39;49m\u001b[43moptions\u001b[49m\u001b[38;5;241;43m.\u001b[39;49m\u001b[43mget\u001b[49m\u001b[43m(\u001b[49m\u001b[38;5;124;43m\"\u001b[39;49m\u001b[38;5;124;43mencoding_errors\u001b[39;49m\u001b[38;5;124;43m\"\u001b[39;49m\u001b[43m,\u001b[49m\u001b[43m \u001b[49m\u001b[38;5;124;43m\"\u001b[39;49m\u001b[38;5;124;43mstrict\u001b[39;49m\u001b[38;5;124;43m\"\u001b[39;49m\u001b[43m)\u001b[49m\u001b[43m,\u001b[49m\n\u001b[0;32m   1225\u001b[0m \u001b[43m    \u001b[49m\u001b[43mstorage_options\u001b[49m\u001b[38;5;241;43m=\u001b[39;49m\u001b[38;5;28;43mself\u001b[39;49m\u001b[38;5;241;43m.\u001b[39;49m\u001b[43moptions\u001b[49m\u001b[38;5;241;43m.\u001b[39;49m\u001b[43mget\u001b[49m\u001b[43m(\u001b[49m\u001b[38;5;124;43m\"\u001b[39;49m\u001b[38;5;124;43mstorage_options\u001b[39;49m\u001b[38;5;124;43m\"\u001b[39;49m\u001b[43m,\u001b[49m\u001b[43m \u001b[49m\u001b[38;5;28;43;01mNone\u001b[39;49;00m\u001b[43m)\u001b[49m\u001b[43m,\u001b[49m\n\u001b[0;32m   1226\u001b[0m \u001b[43m\u001b[49m\u001b[43m)\u001b[49m\n\u001b[0;32m   1227\u001b[0m \u001b[38;5;28;01massert\u001b[39;00m \u001b[38;5;28mself\u001b[39m\u001b[38;5;241m.\u001b[39mhandles \u001b[38;5;129;01mis\u001b[39;00m \u001b[38;5;129;01mnot\u001b[39;00m \u001b[38;5;28;01mNone\u001b[39;00m\n\u001b[0;32m   1228\u001b[0m f \u001b[38;5;241m=\u001b[39m \u001b[38;5;28mself\u001b[39m\u001b[38;5;241m.\u001b[39mhandles\u001b[38;5;241m.\u001b[39mhandle\n",
      "File \u001b[1;32m~\\anaconda3\\lib\\site-packages\\pandas\\io\\common.py:789\u001b[0m, in \u001b[0;36mget_handle\u001b[1;34m(path_or_buf, mode, encoding, compression, memory_map, is_text, errors, storage_options)\u001b[0m\n\u001b[0;32m    784\u001b[0m \u001b[38;5;28;01melif\u001b[39;00m \u001b[38;5;28misinstance\u001b[39m(handle, \u001b[38;5;28mstr\u001b[39m):\n\u001b[0;32m    785\u001b[0m     \u001b[38;5;66;03m# Check whether the filename is to be opened in binary mode.\u001b[39;00m\n\u001b[0;32m    786\u001b[0m     \u001b[38;5;66;03m# Binary mode does not support 'encoding' and 'newline'.\u001b[39;00m\n\u001b[0;32m    787\u001b[0m     \u001b[38;5;28;01mif\u001b[39;00m ioargs\u001b[38;5;241m.\u001b[39mencoding \u001b[38;5;129;01mand\u001b[39;00m \u001b[38;5;124m\"\u001b[39m\u001b[38;5;124mb\u001b[39m\u001b[38;5;124m\"\u001b[39m \u001b[38;5;129;01mnot\u001b[39;00m \u001b[38;5;129;01min\u001b[39;00m ioargs\u001b[38;5;241m.\u001b[39mmode:\n\u001b[0;32m    788\u001b[0m         \u001b[38;5;66;03m# Encoding\u001b[39;00m\n\u001b[1;32m--> 789\u001b[0m         handle \u001b[38;5;241m=\u001b[39m \u001b[38;5;28;43mopen\u001b[39;49m\u001b[43m(\u001b[49m\n\u001b[0;32m    790\u001b[0m \u001b[43m            \u001b[49m\u001b[43mhandle\u001b[49m\u001b[43m,\u001b[49m\n\u001b[0;32m    791\u001b[0m \u001b[43m            \u001b[49m\u001b[43mioargs\u001b[49m\u001b[38;5;241;43m.\u001b[39;49m\u001b[43mmode\u001b[49m\u001b[43m,\u001b[49m\n\u001b[0;32m    792\u001b[0m \u001b[43m            \u001b[49m\u001b[43mencoding\u001b[49m\u001b[38;5;241;43m=\u001b[39;49m\u001b[43mioargs\u001b[49m\u001b[38;5;241;43m.\u001b[39;49m\u001b[43mencoding\u001b[49m\u001b[43m,\u001b[49m\n\u001b[0;32m    793\u001b[0m \u001b[43m            \u001b[49m\u001b[43merrors\u001b[49m\u001b[38;5;241;43m=\u001b[39;49m\u001b[43merrors\u001b[49m\u001b[43m,\u001b[49m\n\u001b[0;32m    794\u001b[0m \u001b[43m            \u001b[49m\u001b[43mnewline\u001b[49m\u001b[38;5;241;43m=\u001b[39;49m\u001b[38;5;124;43m\"\u001b[39;49m\u001b[38;5;124;43m\"\u001b[39;49m\u001b[43m,\u001b[49m\n\u001b[0;32m    795\u001b[0m \u001b[43m        \u001b[49m\u001b[43m)\u001b[49m\n\u001b[0;32m    796\u001b[0m     \u001b[38;5;28;01melse\u001b[39;00m:\n\u001b[0;32m    797\u001b[0m         \u001b[38;5;66;03m# Binary mode\u001b[39;00m\n\u001b[0;32m    798\u001b[0m         handle \u001b[38;5;241m=\u001b[39m \u001b[38;5;28mopen\u001b[39m(handle, ioargs\u001b[38;5;241m.\u001b[39mmode)\n",
      "\u001b[1;31mFileNotFoundError\u001b[0m: [Errno 2] No such file or directory: 'Churn_Modelling.csv'"
     ]
    }
   ],
   "source": [
    "df=pd.read_csv(\"Churn_Modelling.csv\")"
   ]
  },
  {
   "cell_type": "code",
   "execution_count": null,
   "id": "18181ebc",
   "metadata": {},
   "outputs": [],
   "source": [
    "df.info()"
   ]
  },
  {
   "cell_type": "code",
   "execution_count": null,
   "id": "1eb0ae8f",
   "metadata": {},
   "outputs": [],
   "source": [
    "df.describe()  "
   ]
  },
  {
   "cell_type": "markdown",
   "id": "262ef01d",
   "metadata": {},
   "source": [
    "## 1. UNIVARIATE ANALYSIS"
   ]
  },
  {
   "cell_type": "markdown",
   "id": "89f7eafb",
   "metadata": {},
   "source": [
    "### \n",
    "The term univariate analysis refers to the analysis of one variable. You can remember this because the prefix “uni” means “one.” There are three common ways to perform univariate analysis on one variable: 1. Summary statistics – Measures the center and spread of values.\n",
    "###"
   ]
  },
  {
   "cell_type": "markdown",
   "id": "c1e2969a",
   "metadata": {},
   "source": [
    "### Histogram "
   ]
  },
  {
   "cell_type": "code",
   "execution_count": null,
   "id": "32f7e364",
   "metadata": {
    "scrolled": true
   },
   "outputs": [],
   "source": [
    "sns.displot(df[\"Age\"], color='darkorange')"
   ]
  },
  {
   "cell_type": "markdown",
   "id": "d4c82411",
   "metadata": {},
   "source": [
    "### In Histogram, we can do it vertically too, by just changing the axis"
   ]
  },
  {
   "cell_type": "code",
   "execution_count": null,
   "id": "1a6f90dc",
   "metadata": {
    "scrolled": true
   },
   "outputs": [],
   "source": [
    "sns.histplot(y=\"Age\",data=df,color='darkorange') "
   ]
  },
  {
   "cell_type": "markdown",
   "id": "819400ed",
   "metadata": {},
   "source": [
    "### Now, we can also use Histogram for categorical variables "
   ]
  },
  {
   "cell_type": "code",
   "execution_count": null,
   "id": "0cac610c",
   "metadata": {},
   "outputs": [],
   "source": [
    "sns.histplot(x='Age',data=df,hue=df['Tenure']) "
   ]
  },
  {
   "cell_type": "markdown",
   "id": "3a6f9cc0",
   "metadata": {},
   "source": [
    "### Distplot "
   ]
  },
  {
   "cell_type": "code",
   "execution_count": null,
   "id": "269415c2",
   "metadata": {},
   "outputs": [],
   "source": [
    "sns.distplot(df[\"Age\"],color='purple') "
   ]
  },
  {
   "cell_type": "markdown",
   "id": "1183af9a",
   "metadata": {},
   "source": [
    "### This is visualising displot alone"
   ]
  },
  {
   "cell_type": "code",
   "execution_count": null,
   "id": "1232005f",
   "metadata": {},
   "outputs": [],
   "source": [
    "sns.distplot(df[\"Age\"],hist=False,color='blue') "
   ]
  },
  {
   "cell_type": "markdown",
   "id": "40629d90",
   "metadata": {},
   "source": [
    "### Boxplot "
   ]
  },
  {
   "cell_type": "code",
   "execution_count": null,
   "id": "b1255df5",
   "metadata": {},
   "outputs": [],
   "source": [
    "sns.boxplot(df[\"Age\"],color='pink') "
   ]
  },
  {
   "cell_type": "markdown",
   "id": "2e1cf5dd",
   "metadata": {},
   "source": [
    "### Countplot "
   ]
  },
  {
   "cell_type": "code",
   "execution_count": null,
   "id": "32cef38d",
   "metadata": {
    "scrolled": true
   },
   "outputs": [],
   "source": [
    "sns.countplot(df['Age']) "
   ]
  },
  {
   "cell_type": "markdown",
   "id": "99f298dd",
   "metadata": {},
   "source": [
    "## 2. BIVARIATE ANALYSIS"
   ]
  },
  {
   "cell_type": "markdown",
   "id": "5f58b429",
   "metadata": {},
   "source": [
    "###\n",
    "Image result for bivariate analysis in python\n",
    "It is a methodical statistical technique applied to a pair of variables (features/ attributes) of data to determine the empirical relationship between them. In order words, it is meant to determine any concurrent relations (usually over and above a simple correlation analysis).\n",
    "###"
   ]
  },
  {
   "cell_type": "markdown",
   "id": "cf90151f",
   "metadata": {},
   "source": [
    "### Barplot"
   ]
  },
  {
   "cell_type": "code",
   "execution_count": null,
   "id": "841b0275",
   "metadata": {},
   "outputs": [],
   "source": [
    "sns.barplot(df[\"NumOfProducts\"],df[\"Age\"])"
   ]
  },
  {
   "cell_type": "markdown",
   "id": "46f9962e",
   "metadata": {},
   "source": [
    "### Linearplot"
   ]
  },
  {
   "cell_type": "code",
   "execution_count": null,
   "id": "75c9afb0",
   "metadata": {},
   "outputs": [],
   "source": [
    "sns.lineplot(df[\"Age\"],df[\"NumOfProducts\"], color='purple')"
   ]
  },
  {
   "cell_type": "markdown",
   "id": "86cc6edf",
   "metadata": {},
   "source": [
    "### Scatterplot"
   ]
  },
  {
   "cell_type": "code",
   "execution_count": null,
   "id": "1a886688",
   "metadata": {},
   "outputs": [],
   "source": [
    "sns.scatterplot(x=df.Age,y=df.RowNumber,color='green')"
   ]
  },
  {
   "cell_type": "markdown",
   "id": "b4d4e637",
   "metadata": {},
   "source": [
    "### Pointplot "
   ]
  },
  {
   "cell_type": "code",
   "execution_count": null,
   "id": "89de4a94",
   "metadata": {},
   "outputs": [],
   "source": [
    "sns.pointplot(x='Age',y='Tenure',data=df,color='pink') "
   ]
  },
  {
   "cell_type": "markdown",
   "id": "1bbf83df",
   "metadata": {},
   "source": [
    "### Regplot "
   ]
  },
  {
   "cell_type": "code",
   "execution_count": null,
   "id": "7b98e03b",
   "metadata": {},
   "outputs": [],
   "source": [
    "sns.regplot(df['Age'],df['Tenure'],color='orange') "
   ]
  },
  {
   "cell_type": "markdown",
   "id": "922efd37",
   "metadata": {},
   "source": [
    "## 3. MULTI - VARIATE ANALYSIS"
   ]
  },
  {
   "cell_type": "markdown",
   "id": "b7169dac",
   "metadata": {},
   "source": [
    "###\n",
    "Multivariate analysis is based in observation and analysis of more than one statistical outcome variable at a time. In design and analysis, the technique is used to perform trade studies across multiple dimensions while taking into account the effects of all variables on the responses of interest.\n",
    "###"
   ]
  },
  {
   "cell_type": "markdown",
   "id": "29983f0f",
   "metadata": {},
   "source": [
    "### Pairplot"
   ]
  },
  {
   "cell_type": "code",
   "execution_count": null,
   "id": "fd842e3e",
   "metadata": {},
   "outputs": [],
   "source": [
    "sns.pairplot(data=df[[\"RowNumber\",\"Age\",\"Tenure\",\"Balance\",\"NumOfProducts\"]],kind=\"kde\")"
   ]
  },
  {
   "cell_type": "code",
   "execution_count": null,
   "id": "32db47bb",
   "metadata": {
    "scrolled": true
   },
   "outputs": [],
   "source": [
    "sns.pairplot(data=df[[\"RowNumber\",\"Age\",\"Tenure\",\"Balance\",\"NumOfProducts\"]], hue=\"Age\", diag_kind=\"hist\")"
   ]
  },
  {
   "cell_type": "code",
   "execution_count": null,
   "id": "08b9524f",
   "metadata": {},
   "outputs": [],
   "source": [
    "sns.pairplot(data=df[[\"RowNumber\",\"Age\",\"Tenure\",\"Balance\",\"NumOfProducts\"]], hue=\"Age\")"
   ]
  },
  {
   "cell_type": "markdown",
   "id": "42af66c5",
   "metadata": {},
   "source": [
    "## 4. Perform descriptive statistics on the dataset"
   ]
  },
  {
   "cell_type": "markdown",
   "id": "0e868011",
   "metadata": {},
   "source": [
    "###\n",
    "Image result for descriptive statistics in python\n",
    "Python Descriptive Statistics process describes the basic features of data in a study. It delivers summaries on the sample and the measures and does not use the data to learn about the population it represents. Under descriptive statistics, fall two sets of properties- central tendency and dispersion.\n",
    "###"
   ]
  },
  {
   "cell_type": "code",
   "execution_count": null,
   "id": "73f89e75",
   "metadata": {},
   "outputs": [],
   "source": [
    "df.describe()"
   ]
  },
  {
   "cell_type": "markdown",
   "id": "a858d8f3",
   "metadata": {},
   "source": [
    "## 5. Handle the Missing values."
   ]
  },
  {
   "cell_type": "code",
   "execution_count": null,
   "id": "3d7443ea",
   "metadata": {},
   "outputs": [],
   "source": [
    "data=pd.DataFrame({\"a\":[1,2,np.nan],\"b\":[1,np.nan,np.nan],\"c\":[1,2,4]})\n",
    "data"
   ]
  },
  {
   "cell_type": "code",
   "execution_count": null,
   "id": "061cfb8b",
   "metadata": {},
   "outputs": [],
   "source": [
    "data.isnull().any()"
   ]
  },
  {
   "cell_type": "code",
   "execution_count": null,
   "id": "be1d12fa",
   "metadata": {},
   "outputs": [],
   "source": [
    "data.isnull().sum()"
   ]
  },
  {
   "cell_type": "code",
   "execution_count": null,
   "id": "3a866da5",
   "metadata": {},
   "outputs": [],
   "source": [
    "data.fillna(value = \"S\")"
   ]
  },
  {
   "cell_type": "code",
   "execution_count": null,
   "id": "8cba4ca5",
   "metadata": {},
   "outputs": [],
   "source": [
    "data[\"a\"].mean()"
   ]
  },
  {
   "cell_type": "code",
   "execution_count": null,
   "id": "97700856",
   "metadata": {},
   "outputs": [],
   "source": [
    "data[\"a\"].median()"
   ]
  },
  {
   "cell_type": "markdown",
   "id": "3a739f5d",
   "metadata": {},
   "source": [
    "## 6. Find the outliers and replace the outliers"
   ]
  },
  {
   "cell_type": "markdown",
   "id": "5d646724",
   "metadata": {},
   "source": [
    "###\n",
    "For data that follows a normal distribution, the values that fall more than three standard deviations from the mean are typically considered outliers. Outliers can find their way into a dataset naturally through variability, or they can be the result of issues like human error, faulty equipment, or poor sampling.\n",
    "###"
   ]
  },
  {
   "cell_type": "code",
   "execution_count": null,
   "id": "3c1eeb01",
   "metadata": {},
   "outputs": [],
   "source": [
    "outlierss=df.quantile(q=(0.25,0.75))"
   ]
  },
  {
   "cell_type": "code",
   "execution_count": null,
   "id": "41811423",
   "metadata": {},
   "outputs": [],
   "source": [
    "outlierss"
   ]
  },
  {
   "cell_type": "code",
   "execution_count": null,
   "id": "33979b0c",
   "metadata": {},
   "outputs": [],
   "source": [
    "aaa=qnt.loc[0.75]-qnt.loc[0.25]"
   ]
  },
  {
   "cell_type": "code",
   "execution_count": null,
   "id": "9015a07c",
   "metadata": {},
   "outputs": [],
   "source": [
    "aaa"
   ]
  },
  {
   "cell_type": "code",
   "execution_count": null,
   "id": "c8fdf4c2",
   "metadata": {},
   "outputs": [],
   "source": [
    "low = qnt.loc[0.25] - 1.5*aaa"
   ]
  },
  {
   "cell_type": "code",
   "execution_count": null,
   "id": "c5de42ca",
   "metadata": {},
   "outputs": [],
   "source": [
    "low"
   ]
  },
  {
   "cell_type": "code",
   "execution_count": null,
   "id": "455baf87",
   "metadata": {},
   "outputs": [],
   "source": [
    "high = qnt.loc[0.75] + 1.5 * aaa"
   ]
  },
  {
   "cell_type": "code",
   "execution_count": null,
   "id": "91de97cb",
   "metadata": {},
   "outputs": [],
   "source": [
    "high"
   ]
  },
  {
   "cell_type": "code",
   "execution_count": null,
   "id": "88de9ac0",
   "metadata": {},
   "outputs": [],
   "source": [
    "sns.boxplot(df[\"Age\"],color='purple')"
   ]
  },
  {
   "cell_type": "code",
   "execution_count": null,
   "id": "bb030886",
   "metadata": {},
   "outputs": [],
   "source": [
    "df[\"Age\"]=np.where(df[\"Age\"]<25,50,df[\"Age\"])"
   ]
  },
  {
   "cell_type": "code",
   "execution_count": null,
   "id": "26b35184",
   "metadata": {},
   "outputs": [],
   "source": [
    "sns.boxplot(df[\"Age\"],color='pink')"
   ]
  },
  {
   "cell_type": "markdown",
   "id": "0fd48898",
   "metadata": {},
   "source": [
    "## 7. Check for Categorical columns and perform encoding."
   ]
  },
  {
   "cell_type": "markdown",
   "id": "082f906a",
   "metadata": {},
   "source": [
    "###\n",
    "Categorical Columns :\n",
    "Categorical are a Pandas data type. A string variable consisting of only a few different values.\n",
    "###\n",
    "Encoding : \n",
    "For efficient storage of these strings, the sequence of code points is converted into a set of bytes. The process is known as encoding.\n",
    "###"
   ]
  },
  {
   "cell_type": "code",
   "execution_count": null,
   "id": "b4fae74f",
   "metadata": {},
   "outputs": [],
   "source": [
    "df.head(4)"
   ]
  },
  {
   "cell_type": "code",
   "execution_count": null,
   "id": "1fcb9452",
   "metadata": {},
   "outputs": [],
   "source": [
    "df[\"Gender\"].replace({\"Female\":0,\"Male\":1},inplace = True)\n",
    "df[\"Geography\"].replace({\"France\":1,\"Spain\":2,\"Germany\":3},inplace = True)\n",
    "df[\"Gender\"].replace({\"Female\":0,\"Male\":1},inplace = True)\n",
    "df[\"Geography\"].replace({\"France\":1,\"Spain\":2,\"Germany\":3},inplace = True)"
   ]
  },
  {
   "cell_type": "code",
   "execution_count": null,
   "id": "ad684835",
   "metadata": {},
   "outputs": [],
   "source": [
    "df.head(4)"
   ]
  },
  {
   "cell_type": "markdown",
   "id": "8dad6f20",
   "metadata": {},
   "source": [
    "## 8. Split the data into dependent and independent variables."
   ]
  },
  {
   "cell_type": "markdown",
   "id": "135f4909",
   "metadata": {},
   "source": [
    "###\n",
    "Dependent Variable :\n",
    "A dependent variable is a variable whose value depends on another variable.\n",
    "###\n",
    "Independent Variable :\n",
    "An Independent variable is a variable whose value never depends on another variable but the researcher.\n",
    "###"
   ]
  },
  {
   "cell_type": "code",
   "execution_count": null,
   "id": "2cbe90a9",
   "metadata": {},
   "outputs": [],
   "source": [
    "y = df[\"Surname\"]"
   ]
  },
  {
   "cell_type": "code",
   "execution_count": null,
   "id": "0c9c5288",
   "metadata": {},
   "outputs": [],
   "source": [
    "x=df.drop(columns=[\"Surname\"],axis=1)"
   ]
  },
  {
   "cell_type": "code",
   "execution_count": null,
   "id": "3da7b370",
   "metadata": {},
   "outputs": [],
   "source": [
    "x.head()"
   ]
  },
  {
   "cell_type": "markdown",
   "id": "42481f0c",
   "metadata": {},
   "source": [
    "## 9. Scale the independent variables"
   ]
  },
  {
   "cell_type": "code",
   "execution_count": null,
   "id": "02cbc7ae",
   "metadata": {},
   "outputs": [],
   "source": [
    "names=x.columns\n",
    "names"
   ]
  },
  {
   "cell_type": "code",
   "execution_count": null,
   "id": "40930ad0",
   "metadata": {},
   "outputs": [],
   "source": [
    "from sklearn.preprocessing import scale"
   ]
  },
  {
   "cell_type": "code",
   "execution_count": null,
   "id": "0dd89725",
   "metadata": {},
   "outputs": [],
   "source": [
    "X=scale(x)"
   ]
  },
  {
   "cell_type": "code",
   "execution_count": null,
   "id": "c3fbfa7e",
   "metadata": {},
   "outputs": [],
   "source": [
    "X"
   ]
  },
  {
   "cell_type": "code",
   "execution_count": null,
   "id": "6dc65366",
   "metadata": {},
   "outputs": [],
   "source": [
    "x = pd.DataFrame(X,columns = names )\n",
    "x"
   ]
  },
  {
   "cell_type": "markdown",
   "id": "4699c085",
   "metadata": {},
   "source": [
    "## 10. Split the data into training and testing"
   ]
  },
  {
   "cell_type": "markdown",
   "id": "877df6ab",
   "metadata": {},
   "source": [
    "###\n",
    "Train/Test is a method to measure the accuracy of your model. It is called Train/Test because you split the the data set into two sets: a training set and a testing set. 80% for training, and 20% for testing. You train the model using the training set.\n",
    "###"
   ]
  },
  {
   "cell_type": "code",
   "execution_count": null,
   "id": "5087fa8b",
   "metadata": {},
   "outputs": [],
   "source": [
    "from sklearn.model_selection import train_test_split"
   ]
  },
  {
   "cell_type": "code",
   "execution_count": null,
   "id": "8a2cab23",
   "metadata": {},
   "outputs": [],
   "source": [
    "x_train,x_test,y_train,y_test=train_test_split(x,y,test_size=0.2,random_state=0)"
   ]
  },
  {
   "cell_type": "code",
   "execution_count": null,
   "id": "803f45bf",
   "metadata": {},
   "outputs": [],
   "source": [
    "x_train.head()"
   ]
  },
  {
   "cell_type": "code",
   "execution_count": null,
   "id": "a9b79d96",
   "metadata": {},
   "outputs": [],
   "source": [
    "x_train.shape,y_train.shape,x_test.shape,y_test.shape"
   ]
  },
  {
   "cell_type": "code",
   "execution_count": null,
   "id": "1eee1790",
   "metadata": {},
   "outputs": [],
   "source": []
  }
 ],
 "metadata": {
  "kernelspec": {
   "display_name": "Python 3 (ipykernel)",
   "language": "python",
   "name": "python3"
  },
  "language_info": {
   "codemirror_mode": {
    "name": "ipython",
    "version": 3
   },
   "file_extension": ".py",
   "mimetype": "text/x-python",
   "name": "python",
   "nbconvert_exporter": "python",
   "pygments_lexer": "ipython3",
   "version": "3.9.12"
  }
 },
 "nbformat": 4,
 "nbformat_minor": 5
}
