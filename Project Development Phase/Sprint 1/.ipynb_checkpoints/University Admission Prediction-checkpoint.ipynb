{
 "cells": [
  {
   "cell_type": "markdown",
   "id": "35defedf",
   "metadata": {},
   "source": [
    "<center><h2>Importing the Libraries</h2></center>"
   ]
  },
  {
   "cell_type": "code",
   "execution_count": 1,
   "id": "e821d352",
   "metadata": {},
   "outputs": [],
   "source": [
    "import numpy as np\n",
    "import pandas as pd\n",
    "import matplotlib.pyplot as plt\n",
    "import seaborn as sns\n",
    "%matplotlib inline"
   ]
  },
  {
   "cell_type": "markdown",
   "id": "d8b7e842",
   "metadata": {},
   "source": [
    "<center><h2>Reading the Dataset</h2></center>"
   ]
  },
  {
   "cell_type": "code",
   "execution_count": 2,
   "id": "af5cabab",
   "metadata": {},
   "outputs": [
    {
     "ename": "NameError",
     "evalue": "name 'body' is not defined",
     "output_type": "error",
     "traceback": [
      "\u001b[1;31m---------------------------------------------------------------------------\u001b[0m",
      "\u001b[1;31mNameError\u001b[0m                                 Traceback (most recent call last)",
      "Input \u001b[1;32mIn [2]\u001b[0m, in \u001b[0;36m<cell line: 5>\u001b[1;34m()\u001b[0m\n\u001b[0;32m      1\u001b[0m \u001b[38;5;28;01mimport\u001b[39;00m \u001b[38;5;21;01mtypes\u001b[39;00m\n\u001b[0;32m      2\u001b[0m \u001b[38;5;28;01mimport\u001b[39;00m \u001b[38;5;21;01mpandas\u001b[39;00m \u001b[38;5;28;01mas\u001b[39;00m \u001b[38;5;21;01mpd\u001b[39;00m\n\u001b[1;32m----> 5\u001b[0m data \u001b[38;5;241m=\u001b[39m pd\u001b[38;5;241m.\u001b[39mread_csv(\u001b[43mbody\u001b[49m)\n\u001b[0;32m      6\u001b[0m data\u001b[38;5;241m.\u001b[39mhead()\n",
      "\u001b[1;31mNameError\u001b[0m: name 'body' is not defined"
     ]
    }
   ],
   "source": [
    "\n",
    "import types\n",
    "import pandas as pd\n",
    "\n",
    "\n",
    "data = pd.read_csv()\n",
    "data.head()\n"
   ]
  },
  {
   "cell_type": "markdown",
   "id": "47427910",
   "metadata": {},
   "source": [
    "<center><h2>Analyse the Data</h2><center>"
   ]
  },
  {
   "cell_type": "code",
   "execution_count": null,
   "id": "c7e9dea9",
   "metadata": {
    "scrolled": true
   },
   "outputs": [],
   "source": [
    "data.head()"
   ]
  },
  {
   "cell_type": "code",
   "execution_count": null,
   "id": "a9afa31a",
   "metadata": {
    "scrolled": true
   },
   "outputs": [],
   "source": [
    "data.drop([\"Serial No.\"],axis=1,inplace=True)\n",
    "data.head()"
   ]
  },
  {
   "cell_type": "markdown",
   "id": "483b7327",
   "metadata": {},
   "source": [
    "<center><h2>Handling Missing Values</h2></center>"
   ]
  },
  {
   "cell_type": "code",
   "execution_count": null,
   "id": "2b2f7f72",
   "metadata": {
    "scrolled": true
   },
   "outputs": [],
   "source": [
    "data.isnull().sum()"
   ]
  },
  {
   "cell_type": "markdown",
   "id": "2df4f0ac",
   "metadata": {},
   "source": [
    "<center><h2>Data Description</h2></center>"
   ]
  },
  {
   "cell_type": "code",
   "execution_count": null,
   "id": "50f9b3af",
   "metadata": {
    "scrolled": true
   },
   "outputs": [],
   "source": [
    "data.describe()"
   ]
  },
  {
   "cell_type": "code",
   "execution_count": null,
   "id": "1875b4a7",
   "metadata": {},
   "outputs": [],
   "source": [
    "data.info()"
   ]
  },
  {
   "cell_type": "markdown",
   "id": "5887e236",
   "metadata": {},
   "source": [
    "###### CORRELATION MATRIX\n",
    "<hr style=\"height:1px;\">\n"
   ]
  },
  {
   "cell_type": "code",
   "execution_count": null,
   "id": "18590799",
   "metadata": {},
   "outputs": [],
   "source": [
    "corr_matrix = d.corr()\n",
    "corr_matrix"
   ]
  },
  {
   "cell_type": "markdown",
   "id": "39fca5a6",
   "metadata": {},
   "source": [
    "<center><h2>Data Visualisation</h2></center>\n",
    "\n"
   ]
  },
  {
   "cell_type": "markdown",
   "id": "a6fccecc",
   "metadata": {},
   "source": [
    "###### CORRELATION HEATMAP\n",
    "<hr style=\"height:1px;\">"
   ]
  },
  {
   "cell_type": "code",
   "execution_count": null,
   "id": "34afb6e7",
   "metadata": {},
   "outputs": [],
   "source": [
    "fig = plt.figure(figsize=(12,8))\n",
    "sns.heatmap(corr_matrix,annot=True)\n",
    "plt.show()"
   ]
  },
  {
   "cell_type": "markdown",
   "id": "d8f3bf72",
   "metadata": {},
   "source": [
    "###### HIGH CORRELATION PLOTTING\n",
    "<hr style=\"height:1px;\">"
   ]
  },
  {
   "cell_type": "code",
   "execution_count": null,
   "id": "4e406b0d",
   "metadata": {
    "scrolled": true
   },
   "outputs": [],
   "source": [
    "sns.relplot(data=data,x=\"GRE Score\",y=\"Chance of Admit \",hue=\"Research\",\n",
    "            palette=\"Set3\",alpha=0.7)\n",
    "plt.title(\"GRE Score vs Chance of Admit\")\n",
    "plt.show()"
   ]
  },
  {
   "cell_type": "code",
   "execution_count": null,
   "id": "75a36de5",
   "metadata": {
    "scrolled": true
   },
   "outputs": [],
   "source": [
    "sns.relplot(data=data,x=\"CGPA\",y=\"Chance of Admit \",hue=\"Research\",\n",
    "            palette=\"Set1\",alpha=0.7)\n",
    "plt.title(\"CGPA vs Chance of Admit\")\n",
    "plt.show()"
   ]
  },
  {
   "cell_type": "code",
   "execution_count": null,
   "id": "bb136815",
   "metadata": {},
   "outputs": [],
   "source": [
    "sns.relplot(data=data,x=\"TOEFL Score\",y=\"Chance of Admit \",hue=\"Research\",\n",
    "            palette=\"Set2\",alpha=0.7,kind=\"line\",ci=None)\n",
    "plt.title(\"TOEFL Score vs Chance of Admit\")\n",
    "plt.show()"
   ]
  },
  {
   "cell_type": "code",
   "execution_count": null,
   "id": "ed3a5082",
   "metadata": {},
   "outputs": [],
   "source": [
    "sns.barplot(data=data,x=\"SOP\",y=\"Chance of Admit \",\n",
    "            palette=\"Set3\",hue=\"Research\")\n",
    "plt.title(\"SOP vs Chance of Admit\")\n",
    "plt.show()"
   ]
  },
  {
   "cell_type": "code",
   "execution_count": null,
   "id": "32da891f",
   "metadata": {
    "scrolled": true
   },
   "outputs": [],
   "source": [
    "sns.barplot(data=data,x=\"LOR \",y=\"Chance of Admit \",\n",
    "            palette=\"Set1\",hue=\"Research\")\n",
    "plt.title(\"LOR vs Chance of Admit\")\n",
    "plt.show()"
   ]
  },
  {
   "cell_type": "code",
   "execution_count": null,
   "id": "2541ca07",
   "metadata": {},
   "outputs": [],
   "source": [
    "sns.barplot(data=data,x=\"University Rating\",y=\"Chance of Admit \",\n",
    "            palette=\"Set3\")\n",
    "plt.title(\"University Rating vs Chance of Admit\")\n",
    "plt.show()"
   ]
  },
  {
   "cell_type": "markdown",
   "id": "2098351c",
   "metadata": {},
   "source": [
    "<center><h2>REGRESSION - REQUIRED LIBRARIES</h2></center>\n"
   ]
  },
  {
   "cell_type": "code",
   "execution_count": null,
   "id": "35a34ccb",
   "metadata": {},
   "outputs": [],
   "source": [
    "from sklearn.model_selection import train_test_split\n",
    "from sklearn.linear_model import LinearRegression\n",
    "from sklearn.tree import DecisionTreeRegressor\n",
    "from sklearn.ensemble import RandomForestRegressor\n",
    "from sklearn.metrics import r2_score"
   ]
  },
  {
   "cell_type": "markdown",
   "id": "d310f56c",
   "metadata": {},
   "source": [
    "###### SPLITTING DATA INTO TRAIN AND TEST\n",
    "<hr style=\"height:1px;\">"
   ]
  },
  {
   "cell_type": "code",
   "execution_count": null,
   "id": "f840a40e",
   "metadata": {},
   "outputs": [],
   "source": [
    "x = data[[\"GRE Score\",\"TOEFL Score\",\"University Rating\",\"SOP\",\"LOR \",\"CGPA\", \"Research\"]]\n",
    "y = data[\"Chance of Admit \"].values.reshape(-1,1)\n",
    "\n",
    "x_train, x_test, y_train, y_test = train_test_split(x,y,test_size=0.2,random_state=42)"
   ]
  },
  {
   "cell_type": "markdown",
   "id": "945a7d32",
   "metadata": {},
   "source": [
    "###### MULTIPLE LINEAR REGRESSION\n",
    "<hr style=\"height:1px;\">"
   ]
  },
  {
   "cell_type": "code",
   "execution_count": null,
   "id": "25409600",
   "metadata": {},
   "outputs": [],
   "source": [
    "multiple_lin_reg = LinearRegression()\n",
    "multiple_lin_reg.fit(x_train,y_train)\n",
    "\n",
    "y_pred_mlr = multiple_lin_reg.predict(x_test)\n",
    "\n",
    "r2_score_mlr = r2_score(y_test,y_pred_mlr)\n",
    "print(\"Mutiple Linear Regression's Score = {:.3f}\".format(r2_score_mlr))"
   ]
  },
  {
   "cell_type": "markdown",
   "id": "c13a3057",
   "metadata": {},
   "source": [
    "###### DECISION TREE REGRESSION\n",
    "<hr style=\"height:1px;\">"
   ]
  },
  {
   "cell_type": "code",
   "execution_count": null,
   "id": "adbc9c5a",
   "metadata": {},
   "outputs": [],
   "source": [
    "tree_reg = DecisionTreeRegressor()\n",
    "tree_reg.fit(x_train,y_train)\n",
    "\n",
    "y_pred_tree = tree_reg.predict(x_test)\n",
    "\n",
    "r2_score_tree = r2_score(y_test,y_pred_tree)\n",
    "print(\"Decision Tree Regression's Score = {:.3f}\".format(r2_score_tree))"
   ]
  },
  {
   "cell_type": "markdown",
   "id": "b843e047",
   "metadata": {},
   "source": [
    "###### RANDOM FOREST REGRESSION\n",
    "<hr style=\"height:1px;\">"
   ]
  },
  {
   "cell_type": "code",
   "execution_count": null,
   "id": "fb8763a5",
   "metadata": {},
   "outputs": [],
   "source": [
    "ran_for_reg = RandomForestRegressor(n_estimators=100,random_state=42)\n",
    "ran_for_reg.fit(x_train,y_train)\n",
    "\n",
    "y_pred_rfr = ran_for_reg.predict(x_test)\n",
    "\n",
    "r2_score_rfr = r2_score(y_test,y_pred_rfr)\n",
    "print(\"Random Forest Regression's Score = {:.3f}\".format(r2_score_rfr))"
   ]
  }
 ],
 "metadata": {
  "kernelspec": {
   "display_name": "Python 3 (ipykernel)",
   "language": "python",
   "name": "python3"
  },
  "language_info": {
   "codemirror_mode": {
    "name": "ipython",
    "version": 3
   },
   "file_extension": ".py",
   "mimetype": "text/x-python",
   "name": "python",
   "nbconvert_exporter": "python",
   "pygments_lexer": "ipython3",
   "version": "3.9.12"
  }
 },
 "nbformat": 4,
 "nbformat_minor": 5
}
